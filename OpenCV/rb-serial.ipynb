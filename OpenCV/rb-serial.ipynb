{
 "cells": [
  {
   "cell_type": "markdown",
   "metadata": {},
   "source": [
    "リアルタイム画像処理"
   ]
  },
  {
   "cell_type": "code",
   "execution_count": null,
   "metadata": {},
   "outputs": [],
   "source": [
    "import matplotlib.pyplot as plt\n",
    "import cv2\n",
    "import torch\n",
    "import numpy as np\n",
    "\n",
    "\n",
    "\n",
    "def ReturnPedestrianTrafficLight(results):\n",
    "    for traffic_light in results.crop():\n",
    "        img = traffic_light['im']\n",
    "        img_shape = img.shape\n",
    "        \n",
    "        if img_shape[0] > img_shape[1]:\n",
    "            return img\n",
    "        else:\n",
    "            continue\n",
    "\n",
    "def extractRedBlueArea(img):\n",
    "    img_shape = img.shape\n",
    "    w_c = int(img_shape[1] / 2)\n",
    "    s = int(img_shape[1] / 6)\n",
    "    upper_h_c = int(img_shape[0] / 4)\n",
    "    lower_h_c = int(img_shape[0] * 3 / 4)\n",
    "    return [img[upper_h_c - s:upper_h_c + s, w_c - s:w_c+s, :], img[lower_h_c - s:lower_h_c + s, w_c - s:w_c+s, :]]\n",
    "\n",
    "def ReturnTrafficLightSignal(img_list):\n",
    "    upper_img = img_list[0]\n",
    "    lower_img = img_list[1]\n",
    "    upper_red_nums = cv2.cvtColor(upper_img, cv2.COLOR_BGR2RGB)[:,:,0].mean()\n",
    "    upper_blue_nums = cv2.cvtColor(upper_img, cv2.COLOR_BGR2RGB)[:,:,2].mean()\n",
    "    upper_delta = abs(upper_red_nums - upper_blue_nums)\n",
    "    lower_red_nums = cv2.cvtColor(lower_img, cv2.COLOR_BGR2RGB)[:,:,0].mean()\n",
    "    lower_blue_nums = cv2.cvtColor(lower_img, cv2.COLOR_BGR2RGB)[:,:,2].mean()\n",
    "    lower_delta = abs(lower_red_nums - lower_blue_nums)\n",
    "    if upper_delta >= lower_delta:\n",
    "        return 'r'\n",
    "    else:\n",
    "        return 'b'\n",
    "\n",
    "# YOLOv5モデルの読み込み\n",
    "model = torch.hub.load('ultralytics/yolov5:v6.0', 'yolov5s')\n",
    "model.classes = [9]  # クラスインデックスを設定\n",
    "model.save_results = False  # 結果を保存しないようにする\n",
    "\n",
    "# カメラを起動（通常は0またはカメラのデバイス番号を指定します）\n",
    "cap = cv2.VideoCapture(0)\n",
    "\n",
    "while True:\n",
    "    # カメラからフレームを読み込む\n",
    "    ret, frame = cap.read()\n",
    "\n",
    "    # YOLOv5モデルにフレームを渡して検出を行う\n",
    "    results = model(frame)\n",
    "\n",
    "    # 歩行者用信号機の検出結果を取得\n",
    "    pedestrian_traffic_light = results.pred[0]\n",
    "\n",
    "    # 検出された信号機があれば処理を行う\n",
    "    if len(pedestrian_traffic_light) > 0:\n",
    "        # 信号機の色を判定\n",
    "        img = ReturnPedestrianTrafficLight(results)\n",
    "        if img is not None:\n",
    "            RedBlueImgs = extractRedBlueArea(img)\n",
    "            color = ReturnTrafficLightSignal(RedBlueImgs)\n",
    "            # 信号機の色を表示\n",
    "            print(\"Pedestrian Traffic Light Color: \", color)  # 'r'または'b'が表示される\n",
    "\n",
    "    # フレームを表示\n",
    "    cv2.imshow('Pedestrian Traffic Light Detection', frame)\n",
    "\n",
    "    # 'q'キーを押したらループを抜ける\n",
    "    if cv2.waitKey(1) & 0xFF == ord('q'):\n",
    "        break\n",
    "\n",
    "# カメラとウィンドウを解放\n",
    "cap.release()\n",
    "cv2.destroyAllWindows()\n"
   ]
  },
  {
   "cell_type": "markdown",
   "metadata": {},
   "source": [
    "'r'(赤),'b'(青)をarduinoに送信"
   ]
  },
  {
   "cell_type": "code",
   "execution_count": 2,
   "metadata": {},
   "outputs": [
    {
     "ename": "SerialException",
     "evalue": "could not open port 'COM3': OSError(22, 'セマフォがタイムアウトしました。', None, 121)",
     "output_type": "error",
     "traceback": [
      "\u001b[1;31m---------------------------------------------------------------------------\u001b[0m",
      "\u001b[1;31mSerialException\u001b[0m                           Traceback (most recent call last)",
      "\u001b[1;32mc:\\Users\\Yuki Katayama\\Documents\\Python Scripts\\OpenCV\\rb-serial.ipynb セル 4\u001b[0m line \u001b[0;36m2\n\u001b[0;32m     <a href='vscode-notebook-cell:/c%3A/Users/Yuki%20Katayama/Documents/Python%20Scripts/OpenCV/rb-serial.ipynb#W3sZmlsZQ%3D%3D?line=21'>22</a>\u001b[0m         ser\u001b[39m.\u001b[39mclose()\n\u001b[0;32m     <a href='vscode-notebook-cell:/c%3A/Users/Yuki%20Katayama/Documents/Python%20Scripts/OpenCV/rb-serial.ipynb#W3sZmlsZQ%3D%3D?line=23'>24</a>\u001b[0m \u001b[39mif\u001b[39;00m \u001b[39m__name__\u001b[39m \u001b[39m==\u001b[39m \u001b[39m\"\u001b[39m\u001b[39m__main__\u001b[39m\u001b[39m\"\u001b[39m:\n\u001b[1;32m---> <a href='vscode-notebook-cell:/c%3A/Users/Yuki%20Katayama/Documents/Python%20Scripts/OpenCV/rb-serial.ipynb#W3sZmlsZQ%3D%3D?line=24'>25</a>\u001b[0m     main()\n",
      "\u001b[1;32mc:\\Users\\Yuki Katayama\\Documents\\Python Scripts\\OpenCV\\rb-serial.ipynb セル 4\u001b[0m line \u001b[0;36m9\n\u001b[0;32m      <a href='vscode-notebook-cell:/c%3A/Users/Yuki%20Katayama/Documents/Python%20Scripts/OpenCV/rb-serial.ipynb#W3sZmlsZQ%3D%3D?line=7'>8</a>\u001b[0m \u001b[39mdef\u001b[39;00m \u001b[39mmain\u001b[39m():\n\u001b[1;32m----> <a href='vscode-notebook-cell:/c%3A/Users/Yuki%20Katayama/Documents/Python%20Scripts/OpenCV/rb-serial.ipynb#W3sZmlsZQ%3D%3D?line=8'>9</a>\u001b[0m     \u001b[39mwith\u001b[39;00m serial\u001b[39m.\u001b[39;49mSerial(\u001b[39m'\u001b[39;49m\u001b[39mCOM3\u001b[39;49m\u001b[39m'\u001b[39;49m,\u001b[39m9600\u001b[39;49m,timeout\u001b[39m=\u001b[39;49m\u001b[39m1\u001b[39;49m) \u001b[39mas\u001b[39;00m ser:\n\u001b[0;32m     <a href='vscode-notebook-cell:/c%3A/Users/Yuki%20Katayama/Documents/Python%20Scripts/OpenCV/rb-serial.ipynb#W3sZmlsZQ%3D%3D?line=9'>10</a>\u001b[0m         \u001b[39mwhile\u001b[39;00m \u001b[39mTrue\u001b[39;00m:\n\u001b[0;32m     <a href='vscode-notebook-cell:/c%3A/Users/Yuki%20Katayama/Documents/Python%20Scripts/OpenCV/rb-serial.ipynb#W3sZmlsZQ%3D%3D?line=10'>11</a>\u001b[0m             flag\u001b[39m=\u001b[39m\u001b[39mbytes\u001b[39m(\u001b[39minput\u001b[39m(),\u001b[39m'\u001b[39m\u001b[39mutf-8\u001b[39m\u001b[39m'\u001b[39m)\n",
      "File \u001b[1;32mc:\\Users\\Yuki Katayama\\AppData\\Local\\Programs\\Python\\Python311\\Lib\\site-packages\\serial\\serialwin32.py:33\u001b[0m, in \u001b[0;36mSerial.__init__\u001b[1;34m(self, *args, **kwargs)\u001b[0m\n\u001b[0;32m     31\u001b[0m \u001b[39mself\u001b[39m\u001b[39m.\u001b[39m_overlapped_read \u001b[39m=\u001b[39m \u001b[39mNone\u001b[39;00m\n\u001b[0;32m     32\u001b[0m \u001b[39mself\u001b[39m\u001b[39m.\u001b[39m_overlapped_write \u001b[39m=\u001b[39m \u001b[39mNone\u001b[39;00m\n\u001b[1;32m---> 33\u001b[0m \u001b[39msuper\u001b[39;49m(Serial, \u001b[39mself\u001b[39;49m)\u001b[39m.\u001b[39;49m\u001b[39m__init__\u001b[39;49m(\u001b[39m*\u001b[39;49margs, \u001b[39m*\u001b[39;49m\u001b[39m*\u001b[39;49mkwargs)\n",
      "File \u001b[1;32mc:\\Users\\Yuki Katayama\\AppData\\Local\\Programs\\Python\\Python311\\Lib\\site-packages\\serial\\serialutil.py:244\u001b[0m, in \u001b[0;36mSerialBase.__init__\u001b[1;34m(self, port, baudrate, bytesize, parity, stopbits, timeout, xonxoff, rtscts, write_timeout, dsrdtr, inter_byte_timeout, exclusive, **kwargs)\u001b[0m\n\u001b[0;32m    241\u001b[0m     \u001b[39mraise\u001b[39;00m \u001b[39mValueError\u001b[39;00m(\u001b[39m'\u001b[39m\u001b[39munexpected keyword arguments: \u001b[39m\u001b[39m{!r}\u001b[39;00m\u001b[39m'\u001b[39m\u001b[39m.\u001b[39mformat(kwargs))\n\u001b[0;32m    243\u001b[0m \u001b[39mif\u001b[39;00m port \u001b[39mis\u001b[39;00m \u001b[39mnot\u001b[39;00m \u001b[39mNone\u001b[39;00m:\n\u001b[1;32m--> 244\u001b[0m     \u001b[39mself\u001b[39;49m\u001b[39m.\u001b[39;49mopen()\n",
      "File \u001b[1;32mc:\\Users\\Yuki Katayama\\AppData\\Local\\Programs\\Python\\Python311\\Lib\\site-packages\\serial\\serialwin32.py:64\u001b[0m, in \u001b[0;36mSerial.open\u001b[1;34m(self)\u001b[0m\n\u001b[0;32m     62\u001b[0m \u001b[39mif\u001b[39;00m \u001b[39mself\u001b[39m\u001b[39m.\u001b[39m_port_handle \u001b[39m==\u001b[39m win32\u001b[39m.\u001b[39mINVALID_HANDLE_VALUE:\n\u001b[0;32m     63\u001b[0m     \u001b[39mself\u001b[39m\u001b[39m.\u001b[39m_port_handle \u001b[39m=\u001b[39m \u001b[39mNone\u001b[39;00m    \u001b[39m# 'cause __del__ is called anyway\u001b[39;00m\n\u001b[1;32m---> 64\u001b[0m     \u001b[39mraise\u001b[39;00m SerialException(\u001b[39m\"\u001b[39m\u001b[39mcould not open port \u001b[39m\u001b[39m{!r}\u001b[39;00m\u001b[39m: \u001b[39m\u001b[39m{!r}\u001b[39;00m\u001b[39m\"\u001b[39m\u001b[39m.\u001b[39mformat(\u001b[39mself\u001b[39m\u001b[39m.\u001b[39mportstr, ctypes\u001b[39m.\u001b[39mWinError()))\n\u001b[0;32m     66\u001b[0m \u001b[39mtry\u001b[39;00m:\n\u001b[0;32m     67\u001b[0m     \u001b[39mself\u001b[39m\u001b[39m.\u001b[39m_overlapped_read \u001b[39m=\u001b[39m win32\u001b[39m.\u001b[39mOVERLAPPED()\n",
      "\u001b[1;31mSerialException\u001b[0m: could not open port 'COM3': OSError(22, 'セマフォがタイムアウトしました。', None, 121)"
     ]
    }
   ],
   "source": [
    "#coding:utf-8\n",
    "\n",
    "#シリアル通信で文字をArduino側に送信\n",
    "#aが押されたら通信を中止するプログラム\n",
    "\n",
    "import serial   #モジュール名はpyserialだが, importする際はserialである\n",
    "\n",
    "def main():\n",
    "    with serial.Serial('COM3',9600,timeout=1) as ser:\n",
    "        while True:\n",
    "            flag=bytes(input(),'utf-8')\n",
    "\n",
    "            #シリアル通信で文字を送信する際は, byte文字列に変換する\n",
    "            #input()する際の文字列はutf-8\n",
    "\n",
    "            ser.write(flag)\n",
    "\n",
    "            #シリアル通信:送信\n",
    "\n",
    "            if(flag==bytes('a','utf-8')):\n",
    "                break;\n",
    "        ser.close()\n",
    "\n",
    "if __name__ == \"__main__\":\n",
    "    main()\n"
   ]
  }
 ],
 "metadata": {
  "kernelspec": {
   "display_name": "Python 3",
   "language": "python",
   "name": "python3"
  },
  "language_info": {
   "codemirror_mode": {
    "name": "ipython",
    "version": 3
   },
   "file_extension": ".py",
   "mimetype": "text/x-python",
   "name": "python",
   "nbconvert_exporter": "python",
   "pygments_lexer": "ipython3",
   "version": "3.11.6"
  },
  "orig_nbformat": 4
 },
 "nbformat": 4,
 "nbformat_minor": 2
}
